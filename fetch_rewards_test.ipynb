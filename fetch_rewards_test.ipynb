{
 "cells": [
  {
   "cell_type": "markdown",
   "metadata": {},
   "source": [
    "# FETCH REWARDS TAKE-HOME EXERCISE"
   ]
  },
  {
   "cell_type": "markdown",
   "metadata": {},
   "source": [
    "I completed this exercise based on Jupyter notebook. Hopefully, this would be a good try. "
   ]
  },
  {
   "cell_type": "code",
   "execution_count": 26,
   "metadata": {
    "tags": [
     "hide_code"
    ]
   },
   "outputs": [],
   "source": [
    "#modules import\n",
    "\n",
    "import os\n",
    "import pandas as pd\n",
    "from pandaserd import ERD\n",
    "from sqlalchemy import create_engine\n",
    "\n"
   ]
  },
  {
   "cell_type": "markdown",
   "metadata": {},
   "source": [
    "## Part 1"
   ]
  },
  {
   "cell_type": "markdown",
   "metadata": {},
   "source": [
    "I created ERD with help of pandaserd module in Python (https://pypi.org/project/pandaserd/) and manually added some notes to it. \n",
    "\n",
    "ERD_RECEIPTS.png shows how it looks like. "
   ]
  },
  {
   "cell_type": "code",
   "execution_count": 28,
   "metadata": {
    "tags": [
     "hide_code"
    ]
   },
   "outputs": [
    {
     "ename": "AttributeError",
     "evalue": "module 'toggle_cell' has no attribute 'toggle_code'",
     "output_type": "error",
     "traceback": [
      "\u001b[1;31m---------------------------------------------------------------------------\u001b[0m",
      "\u001b[1;31mAttributeError\u001b[0m                            Traceback (most recent call last)",
      "Input \u001b[1;32mIn [28]\u001b[0m, in \u001b[0;36m<cell line: 6>\u001b[1;34m()\u001b[0m\n\u001b[0;32m      4\u001b[0m     \u001b[38;5;28;01mif\u001b[39;00m i\u001b[38;5;241m.\u001b[39mendswith(\u001b[38;5;124m\"\u001b[39m\u001b[38;5;124m.csv\u001b[39m\u001b[38;5;124m\"\u001b[39m):\n\u001b[0;32m      5\u001b[0m         exec(\u001b[38;5;124m'\u001b[39m\u001b[38;5;132;01m{}\u001b[39;00m\u001b[38;5;124m=pd.read_csv(i)\u001b[39m\u001b[38;5;124m'\u001b[39m\u001b[38;5;241m.\u001b[39mformat(i\u001b[38;5;241m.\u001b[39msplit(\u001b[38;5;124m\"\u001b[39m\u001b[38;5;124m.\u001b[39m\u001b[38;5;124m\"\u001b[39m)[\u001b[38;5;241m0\u001b[39m]))\n\u001b[1;32m----> 6\u001b[0m \u001b[43mtoggle_cell\u001b[49m\u001b[38;5;241;43m.\u001b[39;49m\u001b[43mtoggle_code\u001b[49m()\n",
      "\u001b[1;31mAttributeError\u001b[0m: module 'toggle_cell' has no attribute 'toggle_code'"
     ]
    }
   ],
   "source": [
    "# read data\n",
    "filelst=os.listdir(\"./\")\n",
    "for i in filelst:\n",
    "    if i.endswith(\".csv\"):\n",
    "        exec('{}=pd.read_csv(i)'.format(i.split(\".\")[0]))\n"
   ]
  },
  {
   "cell_type": "code",
   "execution_count": 3,
   "metadata": {
    "tags": [
     "hide_code"
    ]
   },
   "outputs": [],
   "source": [
    "# change variables that contain \"date\" to date data type in pandas\n",
    "def change_date_type(df):\n",
    "    for i in df.columns:\n",
    "        if i.__contains__(\"DATE\"):\n",
    "            df[i]=df[i].astype(\"datetime64[ns]\")\n",
    "change_date_type(receipt_items)\n",
    "change_date_type(receipts)\n",
    "change_date_type(users)\n",
    "\n"
   ]
  },
  {
   "cell_type": "code",
   "execution_count": 4,
   "metadata": {
    "tags": [
     "hide_code"
    ]
   },
   "outputs": [
    {
     "name": "stdout",
     "output_type": "stream",
     "text": [
      "written to output1.txt; visit https://edotor.net/ to render ERD\n"
     ]
    }
   ],
   "source": [
    "# create ERD with Python\n",
    "erd=ERD()\n",
    "t_receipt=erd.add_table(receipts,'RECEIPT', bg_color='lightblue')\n",
    "t_receipt_item=erd.add_table(receipt_items,\"RECEIPT_ITEM\",bg_color=\"lightblue\")\n",
    "t_users=erd.add_table(users,\"USERS\",bg_color=\"lightblue\")\n",
    "t_brands=erd.add_table(brands,\"BRANDS\",bg_color=\"lightblue\")\n",
    "erd.create_rel(\"USERS\",\"RECEIPT\",left_on=\"ID\",right_on=\"USER_ID\",left_cardinality=\"+\",right_cardinality=\"*\")\n",
    "erd.create_rel(\"RECEIPT_ITEM\",\"BRANDS\",on='BARCODE',left_cardinality=\"*\",right_cardinality=\"+\")\n",
    "erd.create_rel(\"RECEIPT\",\"RECEIPT_ITEM\",left_on=\"ID\",right_on=\"REWARDS_RECEIPT_ID\",left_cardinality=\"+\",right_cardinality=\"*\")\n",
    "erd.create_rel(\"RECEIPT\",\"BRANDS\",left_on=\"STORE_NAME\",right_on=\"NAME\",left_cardinality=\"*\",right_cardinality=\"+\")\n",
    "erd.create_rel(\"RECEIPT_ITEM\",\"BRANDS\",on=\"BRAND_CODE\",left_cardinality=\"*\",right_cardinality=\"+\")\n",
    "erd.write_to_file(\"output1.txt\")"
   ]
  },
  {
   "cell_type": "markdown",
   "metadata": {},
   "source": [
    "## Part 2"
   ]
  },
  {
   "cell_type": "markdown",
   "metadata": {},
   "source": [
    "I use SQLite for querying data from tables. \n",
    "\n",
    "I include SQL querys to five questions listed in second part below. \n",
    "\n",
    "For simple, I ran and tested SQL codes in Python with Pandas built-in SQLite connection. Just in case, I also put SQL query codes in \n",
    "sql_query.txt file.  "
   ]
  },
  {
   "cell_type": "code",
   "execution_count": 5,
   "metadata": {
    "tags": [
     "hide_code"
    ]
   },
   "outputs": [],
   "source": [
    "#create a sqlite database\n",
    "engine = create_engine('sqlite://', echo=False)"
   ]
  },
  {
   "cell_type": "code",
   "execution_count": 6,
   "metadata": {
    "tags": [
     "hide_code"
    ]
   },
   "outputs": [
    {
     "data": {
      "text/plain": [
       "406"
      ]
     },
     "execution_count": 6,
     "metadata": {},
     "output_type": "execute_result"
    }
   ],
   "source": [
    "#impoort CSV data to created sqlite3 connection above.\n",
    "users.to_sql(\"USERS\",con=engine)\n",
    "receipts.to_sql(\"RECEIPTS\",con=engine)\n",
    "receipt_items.to_sql(\"RECEIPTS_ITEMS\",con=engine)\n",
    "brands.to_sql(\"BRANDS\",con=engine)"
   ]
  },
  {
   "cell_type": "markdown",
   "metadata": {},
   "source": [
    "Q: Which brand saw the most dollars spent in the month of June?\n"
   ]
  },
  {
   "cell_type": "code",
   "execution_count": 7,
   "metadata": {},
   "outputs": [
    {
     "data": {
      "text/plain": [
       "[('CHASE',)]"
      ]
     },
     "execution_count": 7,
     "metadata": {},
     "output_type": "execute_result"
    }
   ],
   "source": [
    "QUERY=''' \n",
    "\n",
    "SELECT STORE_NAME\n",
    "FROM\n",
    "(SELECT STORE_NAME,\n",
    "STRFTIME('%m',DATE_SCANNED) AS month\n",
    "FROM RECEIPTS\n",
    "WHERE month='06'\n",
    "GROUP BY STORE_NAME\n",
    "ORDER BY TOTAL_SPENT DESC\n",
    "LIMIT 1)\n",
    "\n",
    "\n",
    "\n",
    "\n",
    "'''\n",
    "engine.execute(QUERY).fetchall()"
   ]
  },
  {
   "cell_type": "markdown",
   "metadata": {},
   "source": [
    "Q: Which user spent the most money in the month of August?\n"
   ]
  },
  {
   "cell_type": "code",
   "execution_count": 8,
   "metadata": {},
   "outputs": [
    {
     "data": {
      "text/plain": [
       "[('609ab37f7a2e8f2f95ae968f', 157719.27)]"
      ]
     },
     "execution_count": 8,
     "metadata": {},
     "output_type": "execute_result"
    }
   ],
   "source": [
    "QUERY='''\n",
    "\n",
    "\n",
    "SELECT USER_ID,MAX(Month_spent)\n",
    "FROM\n",
    "(SELECT USER_ID,SUM(TOTAL_SPENT) AS Month_spent,\n",
    "STRFTIME('%m',DATE_SCANNED) AS month\n",
    "FROM RECEIPTS\n",
    "WHERE month='08'\n",
    "GROUP BY USER_ID)\n",
    "\n",
    "\n",
    "\n",
    "'''\n",
    "engine.execute(QUERY).fetchall()\n"
   ]
  },
  {
   "cell_type": "markdown",
   "metadata": {},
   "source": [
    "Q: What user bought the most expensive item?\n"
   ]
  },
  {
   "cell_type": "code",
   "execution_count": 9,
   "metadata": {},
   "outputs": [
    {
     "data": {
      "text/plain": [
       "[('617376b8a9619d488190e0b6',)]"
      ]
     },
     "execution_count": 9,
     "metadata": {},
     "output_type": "execute_result"
    }
   ],
   "source": [
    "QUERY='''\n",
    "\n",
    "\n",
    "SELECT USER_ID\n",
    "FROM RECEIPTS_ITEMS t\n",
    "LEFT JOIN RECEIPTS r ON t.REWARDS_RECEIPT_ID=r.ID\n",
    "ORDER BY (TOTAL_FINAL_PRICE/QUANTITY_PURCHASED) DESC\n",
    "LIMIT 1\n",
    "\n",
    "\n",
    "'''\n",
    "engine.execute(QUERY).fetchall()"
   ]
  },
  {
   "cell_type": "markdown",
   "metadata": {},
   "source": [
    "Q: What is the name of the most expensive item purchased?"
   ]
  },
  {
   "cell_type": "code",
   "execution_count": 10,
   "metadata": {},
   "outputs": [
    {
     "data": {
      "text/plain": [
       "[('Starbucks Iced Coffee Premium Coffee Beverage Unsweetened Blonde Roast Bottle 48 Oz 1 Ct',)]"
      ]
     },
     "execution_count": 10,
     "metadata": {},
     "output_type": "execute_result"
    }
   ],
   "source": [
    "QUERY='''\n",
    "\n",
    "\n",
    "SELECT DESCRIPTION\n",
    "FROM RECEIPTS_ITEMS \n",
    "ORDER BY (TOTAL_FINAL_PRICE/QUANTITY_PURCHASED) DESC\n",
    "LIMIT 1\n",
    "\n",
    "\n",
    "'''\n",
    "\n",
    "engine.execute(QUERY).fetchall()"
   ]
  },
  {
   "cell_type": "markdown",
   "metadata": {},
   "source": [
    "Q: How many users scanned in each month?\n"
   ]
  },
  {
   "cell_type": "code",
   "execution_count": 11,
   "metadata": {},
   "outputs": [
    {
     "data": {
      "text/plain": [
       "[(97, '01'),\n",
       " (87, '02'),\n",
       " (89, '03'),\n",
       " (90, '04'),\n",
       " (88, '05'),\n",
       " (88, '06'),\n",
       " (88, '07'),\n",
       " (88, '08'),\n",
       " (88, '09'),\n",
       " (91, '10'),\n",
       " (93, '11'),\n",
       " (98, '12')]"
      ]
     },
     "execution_count": 11,
     "metadata": {},
     "output_type": "execute_result"
    }
   ],
   "source": [
    "QUERY='''\n",
    "\n",
    "\n",
    "SELECT COUNT(*),month\n",
    "FROM\n",
    "(SELECT COUNT(DATE_SCANNED),\n",
    "STRFTIME('%m',DATE_SCANNED) AS month\n",
    "FROM RECEIPTS\n",
    "GROUP BY month,USER_ID)\n",
    "GROUP BY month\n",
    "\n",
    "\n",
    "'''\n",
    "engine.execute(QUERY).fetchall()"
   ]
  },
  {
   "cell_type": "markdown",
   "metadata": {},
   "source": [
    "# Part 3"
   ]
  },
  {
   "cell_type": "markdown",
   "metadata": {},
   "source": [
    "For this part, I tried to explore some small questions that may do help for business with Pandas and SQL tools. "
   ]
  },
  {
   "cell_type": "markdown",
   "metadata": {},
   "source": [
    "#### Two data quality issues"
   ]
  },
  {
   "cell_type": "markdown",
   "metadata": {},
   "source": [
    "First, found a data quality issue that may influence later data analysis work. Almost 57% (as shown below)of brand codes in the receipts items is null, which makes harder to get information from Brands table. "
   ]
  },
  {
   "cell_type": "code",
   "execution_count": 12,
   "metadata": {
    "tags": [
     "hide_code"
    ]
   },
   "outputs": [
    {
     "data": {
      "text/plain": [
       "0.5702084206261776"
      ]
     },
     "execution_count": 12,
     "metadata": {},
     "output_type": "execute_result"
    }
   ],
   "source": [
    "re_combine=pd.merge(receipt_items,receipts,left_on=\"REWARDS_RECEIPT_ID\",right_on=\"ID\",how=\"left\")\n",
    "re_combine[\"BRAND_CODE\"].isnull().sum()/(len(re_combine[\"BRAND_CODE\"]))"
   ]
  },
  {
   "cell_type": "markdown",
   "metadata": {},
   "source": [
    "And second data quality issue is related to data consistency issue in receipts_items table. For receipts which get non points(\"POINTS_EARNED), but \"NON_POINT_EARNING_RECEIPT\" shows FALSE. Like an example below: "
   ]
  },
  {
   "cell_type": "code",
   "execution_count": 13,
   "metadata": {
    "tags": [
     "hide_code"
    ]
   },
   "outputs": [
    {
     "data": {
      "text/html": [
       "<div>\n",
       "<style scoped>\n",
       "    .dataframe tbody tr th:only-of-type {\n",
       "        vertical-align: middle;\n",
       "    }\n",
       "\n",
       "    .dataframe tbody tr th {\n",
       "        vertical-align: top;\n",
       "    }\n",
       "\n",
       "    .dataframe thead th {\n",
       "        text-align: right;\n",
       "    }\n",
       "</style>\n",
       "<table border=\"1\" class=\"dataframe\">\n",
       "  <thead>\n",
       "    <tr style=\"text-align: right;\">\n",
       "      <th></th>\n",
       "      <th>POINTS_EARNED</th>\n",
       "      <th>NON_POINT_EARNING_RECEIPT</th>\n",
       "    </tr>\n",
       "  </thead>\n",
       "  <tbody>\n",
       "    <tr>\n",
       "      <th>0</th>\n",
       "      <td>NaN</td>\n",
       "      <td>False</td>\n",
       "    </tr>\n",
       "    <tr>\n",
       "      <th>1</th>\n",
       "      <td>NaN</td>\n",
       "      <td>False</td>\n",
       "    </tr>\n",
       "  </tbody>\n",
       "</table>\n",
       "</div>"
      ],
      "text/plain": [
       "   POINTS_EARNED NON_POINT_EARNING_RECEIPT\n",
       "0            NaN                     False\n",
       "1            NaN                     False"
      ]
     },
     "execution_count": 13,
     "metadata": {},
     "output_type": "execute_result"
    }
   ],
   "source": [
    "re_combine[[\"POINTS_EARNED\",\"NON_POINT_EARNING_RECEIPT\"]][:2]\n",
    "# The example shows two items on same receipt. "
   ]
  },
  {
   "cell_type": "markdown",
   "metadata": {},
   "source": [
    "#### Some data analysis work"
   ]
  },
  {
   "cell_type": "markdown",
   "metadata": {},
   "source": [
    "### How many items can get points based on users scanned receipts data?"
   ]
  },
  {
   "cell_type": "code",
   "execution_count": 14,
   "metadata": {
    "tags": [
     "hide_code"
    ]
   },
   "outputs": [
    {
     "data": {
      "text/plain": [
       "0.05258937168576239"
      ]
     },
     "execution_count": 14,
     "metadata": {},
     "output_type": "execute_result"
    }
   ],
   "source": [
    "1-re_combine[\"POINTS_EARNED\"].isnull().sum()/len(re_combine[\"POINTS_EARNED\"])"
   ]
  },
  {
   "cell_type": "markdown",
   "metadata": {},
   "source": [
    "From the results above, we can see that only 5% of items scanned can get points. "
   ]
  },
  {
   "cell_type": "markdown",
   "metadata": {},
   "source": [
    "### What is age group distribution of users?"
   ]
  },
  {
   "cell_type": "code",
   "execution_count": 15,
   "metadata": {
    "tags": [
     "hide_code"
    ]
   },
   "outputs": [
    {
     "data": {
      "text/plain": [
       "<AxesSubplot:>"
      ]
     },
     "execution_count": 15,
     "metadata": {},
     "output_type": "execute_result"
    },
    {
     "data": {
      "image/png": "[encoded data removed]",
      "text/plain": [
       "<Figure size 432x288 with 1 Axes>"
      ]
     },
     "metadata": {
      "needs_background": "light"
     },
     "output_type": "display_data"
    }
   ],
   "source": [
    "QUERY='''\n",
    "SELECT strftime('%Y', 'now') - strftime('%Y', BIRTH_DATE) AS AGE\n",
    "FROM USERS\n",
    "\n",
    "'''\n",
    "agetuple=engine.execute(QUERY).fetchall()\n",
    "agelst=[]\n",
    "for i in agetuple:\n",
    "    agelst.append(i[0])\n",
    "agelst\n",
    "users_copy=users.copy()\n",
    "users_copy[\"AGE\"]=agelst\n",
    "labels=[\"people under 25\",\"people between 25 to 40\", \"people between 40 to 60\", \"people over 60\"]\n",
    "bins=[0,25,40,60,200]\n",
    "users_copy[\"AGEGROUP\"]=pd.cut(users_copy[\"AGE\"],bins=bins,labels=labels,right=True)\n",
    "users_copy[\"AGEGROUP\"].value_counts().plot(kind=\"bar\")\n"
   ]
  },
  {
   "cell_type": "markdown",
   "metadata": {},
   "source": [
    "From the graph, many young people(refer to people under 25 here) do not use Fetch Rewards App. I think it is fair to put more advertisements to young people, especially college students. I believe they may need Fetch Rewards for saving money.  "
   ]
  },
  {
   "cell_type": "markdown",
   "metadata": {},
   "source": [
    "### What is average spent for each user grouped by age groups?"
   ]
  },
  {
   "cell_type": "code",
   "execution_count": 16,
   "metadata": {
    "tags": [
     "hide_code"
    ]
   },
   "outputs": [
    {
     "data": {
      "text/plain": [
       "<AxesSubplot:xlabel='averge spent per user for each group'>"
      ]
     },
     "execution_count": 16,
     "metadata": {},
     "output_type": "execute_result"
    },
    {
     "data": {
      "image/png": "[encoded data removed]",
      "text/plain": [
       "<Figure size 432x288 with 1 Axes>"
      ]
     },
     "metadata": {
      "needs_background": "light"
     },
     "output_type": "display_data"
    }
   ],
   "source": [
    "users_receipt=pd.merge(receipts,users_copy,left_on=\"USER_ID\",right_on=\"ID\",how=\"left\")\n",
    "age_spent=users_receipt.groupby(\"AGEGROUP\").sum()[\"TOTAL_SPENT\"]/users_copy[\"AGEGROUP\"].value_counts()\n",
    "age_spent.plot(kind=\"bar\",xlabel=\"averge spent per user for each group\")"
   ]
  },
  {
   "cell_type": "markdown",
   "metadata": {},
   "source": [
    "From the graph, we can clearly see that young people spend much less than other groups."
   ]
  },
  {
   "cell_type": "markdown",
   "metadata": {},
   "source": [
    "### How many items users purchase for each month?"
   ]
  },
  {
   "cell_type": "code",
   "execution_count": 17,
   "metadata": {
    "tags": [
     "hide_code"
    ]
   },
   "outputs": [
    {
     "data": {
      "text/plain": [
       "<AxesSubplot:xlabel='PURCHASE_MONTH'>"
      ]
     },
     "execution_count": 17,
     "metadata": {},
     "output_type": "execute_result"
    },
    {
     "data": {
      "image/png": "[encoded data removed]",
      "text/plain": [
       "<Figure size 432x288 with 1 Axes>"
      ]
     },
     "metadata": {
      "needs_background": "light"
     },
     "output_type": "display_data"
    }
   ],
   "source": [
    "users_receipt[\"PURCHASE_MONTH\"]=users_receipt[\"PURCHASE_DATE\"].dt.month\n",
    "users_receipt.groupby(\"PURCHASE_MONTH\").sum().reset_index().plot.line(x=\"PURCHASE_MONTH\",y=\"PURCHASED_ITEM_COUNT\")\n"
   ]
  },
  {
   "cell_type": "markdown",
   "metadata": {},
   "source": [
    "From graph, January and Sepetmeber are two monthes that people tend to have more purchase. "
   ]
  },
  {
   "cell_type": "markdown",
   "metadata": {},
   "source": [
    "\n",
    "\n",
    "### Did number of receipts scanned to the Fetch Rewards increases in 2022? "
   ]
  },
  {
   "cell_type": "code",
   "execution_count": 18,
   "metadata": {
    "tags": [
     "hide_code"
    ]
   },
   "outputs": [
    {
     "data": {
      "text/plain": [
       "<AxesSubplot:xlabel='receipts_scanned_numbers'>"
      ]
     },
     "execution_count": 18,
     "metadata": {},
     "output_type": "execute_result"
    },
    {
     "data": {
      "image/png": "[encoded data removed]",
      "text/plain": [
       "<Figure size 432x288 with 1 Axes>"
      ]
     },
     "metadata": {
      "needs_background": "light"
     },
     "output_type": "display_data"
    }
   ],
   "source": [
    "#merge receipts and users table in Pandas\n",
    "users_receipt[\"SCANNED_YEAR\"]=users_receipt[\"DATE_SCANNED\"].dt.year\n",
    "users_receipt[\"SCANNED_YEAR\"].value_counts()[:2].plot(kind=\"bar\",xlabel=\"receipts_scanned_numbers\")"
   ]
  },
  {
   "cell_type": "markdown",
   "metadata": {},
   "source": [
    "The number of increasing scans doubles from 2021 to 2022. "
   ]
  },
  {
   "cell_type": "markdown",
   "metadata": {},
   "source": [
    "Lastly, I am interested in which stores users consume more, and maybe we can do more business collaboration with them. "
   ]
  },
  {
   "cell_type": "code",
   "execution_count": 19,
   "metadata": {
    "tags": [
     "hide_code"
    ]
   },
   "outputs": [
    {
     "data": {
      "text/plain": [
       "<AxesSubplot:>"
      ]
     },
     "execution_count": 19,
     "metadata": {},
     "output_type": "execute_result"
    },
    {
     "data": {
      "image/png": "[encoded data removed]",
      "text/plain": [
       "<Figure size 432x288 with 1 Axes>"
      ]
     },
     "metadata": {
      "needs_background": "light"
     },
     "output_type": "display_data"
    }
   ],
   "source": [
    "receipts[\"STORE_NAME\"].value_counts()[:20].plot(kind=\"bar\")"
   ]
  },
  {
   "cell_type": "markdown",
   "metadata": {},
   "source": [
    "The figure above shows top 20 stores that on receipts users scanned. For future direction, I may focus on if these companies are cooperated with us. "
   ]
  }
 ],
 "metadata": {
  "kernelspec": {
   "display_name": "Python 3 (ipykernel)",
   "language": "python",
   "name": "python3"
  },
  "language_info": {
   "codemirror_mode": {
    "name": "ipython",
    "version": 3
   },
   "file_extension": ".py",
   "mimetype": "text/x-python",
   "name": "python",
   "nbconvert_exporter": "python",
   "pygments_lexer": "ipython3",
   "version": "3.9.12"
  },
  "vscode": {
   "interpreter": {
    "hash": "4ffc375dd395dba288583787985113928d602fa867af2289cc07a77bf4b4e1c3"
   }
  }
 },
 "nbformat": 4,
 "nbformat_minor": 2
}
